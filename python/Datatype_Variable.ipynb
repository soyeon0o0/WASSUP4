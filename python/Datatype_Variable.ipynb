{
 "cells": [
  {
   "cell_type": "code",
   "execution_count": 1,
   "id": "38d922fe-8207-4570-9cc0-156ba5749789",
   "metadata": {},
   "outputs": [
    {
     "name": "stdout",
     "output_type": "stream",
     "text": [
      "1\n"
     ]
    }
   ],
   "source": [
    "a=1\n",
    "print(a) "
   ]
  },
  {
   "cell_type": "code",
   "execution_count": 3,
   "id": "d7f12d78-4184-44b8-b0a4-394fddd9f34e",
   "metadata": {},
   "outputs": [
    {
     "data": {
      "text/plain": [
       "0"
      ]
     },
     "execution_count": 3,
     "metadata": {},
     "output_type": "execute_result"
    }
   ],
   "source": [
    "a=0\n",
    "a"
   ]
  },
  {
   "cell_type": "code",
   "execution_count": 5,
   "id": "ebd9a53d-0aba-4858-98da-9c19f5558a87",
   "metadata": {},
   "outputs": [
    {
     "data": {
      "text/plain": [
       "(1.2, -3.45)"
      ]
     },
     "execution_count": 5,
     "metadata": {},
     "output_type": "execute_result"
    }
   ],
   "source": [
    "# 실수형\n",
    "a=1.2\n",
    "b=-3.45\n",
    "a,b"
   ]
  },
  {
   "cell_type": "code",
   "execution_count": 9,
   "id": "0df25812-b1a0-47f9-aee8-5440ed076cb6",
   "metadata": {},
   "outputs": [
    {
     "data": {
      "text/plain": [
       "42500000000.0"
      ]
     },
     "execution_count": 9,
     "metadata": {},
     "output_type": "execute_result"
    }
   ],
   "source": [
    "a = 4.25E10\n",
    "a"
   ]
  },
  {
   "cell_type": "code",
   "execution_count": 13,
   "id": "e9ca1c76-1603-4d0a-b872-bd5f10b9838c",
   "metadata": {},
   "outputs": [
    {
     "data": {
      "text/plain": [
       "4.25e-10"
      ]
     },
     "execution_count": 13,
     "metadata": {},
     "output_type": "execute_result"
    }
   ],
   "source": [
    "a = 4.25e-10\n",
    "a"
   ]
  },
  {
   "cell_type": "markdown",
   "id": "4bed4a59-f7b4-4433-b5cf-04d3884f380a",
   "metadata": {},
   "source": [
    "# 8진수와 16진수"
   ]
  },
  {
   "cell_type": "code",
   "execution_count": 18,
   "id": "74ba31e3-4960-444a-802d-1069b5c58627",
   "metadata": {},
   "outputs": [
    {
     "name": "stdout",
     "output_type": "stream",
     "text": [
      "375\n"
     ]
    }
   ],
   "source": [
    "a = 0x177\n",
    "print(a)"
   ]
  },
  {
   "cell_type": "markdown",
   "id": "3b8b706e-241d-4cb4-ad41-4c575448aa2e",
   "metadata": {},
   "source": [
    "# 연산자"
   ]
  },
  {
   "cell_type": "code",
   "execution_count": 21,
   "id": "7404a137-2748-49f3-9a58-5774de0dc198",
   "metadata": {},
   "outputs": [
    {
     "data": {
      "text/plain": [
       "7"
      ]
     },
     "execution_count": 21,
     "metadata": {},
     "output_type": "execute_result"
    }
   ],
   "source": [
    "# 사칙연산\n",
    "a =3\n",
    "b=4\n",
    "a+b"
   ]
  },
  {
   "cell_type": "code",
   "execution_count": 23,
   "id": "6b5aa492-2b06-4387-850b-1f0b081ce756",
   "metadata": {},
   "outputs": [
    {
     "data": {
      "text/plain": [
       "(-1, 12, 0.75)"
      ]
     },
     "execution_count": 23,
     "metadata": {},
     "output_type": "execute_result"
    }
   ],
   "source": [
    "a-b, a*b, a/b"
   ]
  },
  {
   "cell_type": "code",
   "execution_count": 25,
   "id": "a9e48dfe-78a3-4823-b975-44e06519214b",
   "metadata": {},
   "outputs": [
    {
     "data": {
      "text/plain": [
       "81"
      ]
     },
     "execution_count": 25,
     "metadata": {},
     "output_type": "execute_result"
    }
   ],
   "source": [
    "# x의 y제곱을 나타내는 ** 연산자\n",
    "a**b"
   ]
  },
  {
   "cell_type": "code",
   "execution_count": 27,
   "id": "dd70beea-beb1-4f5d-a8bd-5f28958b0a00",
   "metadata": {},
   "outputs": [
    {
     "data": {
      "text/plain": [
       "(1, 3)"
      ]
     },
     "execution_count": 27,
     "metadata": {},
     "output_type": "execute_result"
    }
   ],
   "source": [
    "#나눗셈 후 나머지를 리턴\n",
    "7 % 3 , 3 % 7"
   ]
  },
  {
   "cell_type": "code",
   "execution_count": 29,
   "id": "d682e509-3aea-47c5-bc5f-a924cedc6a82",
   "metadata": {},
   "outputs": [
    {
     "data": {
      "text/plain": [
       "1"
      ]
     },
     "execution_count": 29,
     "metadata": {},
     "output_type": "execute_result"
    }
   ],
   "source": [
    "#나눗셈 후 몫을 리턴\n",
    "7//4"
   ]
  },
  {
   "cell_type": "code",
   "execution_count": 31,
   "id": "0a72c545-c96c-464e-a4ca-494dfb812ad3",
   "metadata": {},
   "outputs": [
    {
     "data": {
      "text/plain": [
       "4"
      ]
     },
     "execution_count": 31,
     "metadata": {},
     "output_type": "execute_result"
    }
   ],
   "source": [
    "# 복합 연산자\n",
    "a= a +1\n",
    "a"
   ]
  },
  {
   "cell_type": "code",
   "execution_count": 33,
   "id": "6d2b76f5-d5ef-40e1-b0d5-f731b7baefee",
   "metadata": {},
   "outputs": [
    {
     "data": {
      "text/plain": [
       "5"
      ]
     },
     "execution_count": 33,
     "metadata": {},
     "output_type": "execute_result"
    }
   ],
   "source": [
    "a += 1\n",
    "a"
   ]
  },
  {
   "cell_type": "code",
   "execution_count": 35,
   "id": "ee85b5a1-8ccd-4c58-a30d-2b5bbafe98e4",
   "metadata": {},
   "outputs": [
    {
     "data": {
      "text/plain": [
       "4"
      ]
     },
     "execution_count": 35,
     "metadata": {},
     "output_type": "execute_result"
    }
   ],
   "source": [
    "a -=1\n",
    "a"
   ]
  },
  {
   "cell_type": "markdown",
   "id": "85a1cc40-12e3-4649-b799-b1f15fa7bfb1",
   "metadata": {},
   "source": [
    "# 문자열"
   ]
  },
  {
   "cell_type": "code",
   "execution_count": 38,
   "id": "3419ac3c-8e91-4030-80b0-5c7b60fcf2a1",
   "metadata": {},
   "outputs": [
    {
     "data": {
      "text/plain": [
       "'lifr is too short, you need python'"
      ]
     },
     "execution_count": 38,
     "metadata": {},
     "output_type": "execute_result"
    }
   ],
   "source": [
    "\"lifr is too short, you need python\""
   ]
  },
  {
   "cell_type": "code",
   "execution_count": 40,
   "id": "45b9419a-d8ce-40c0-a4ff-ee17a13916be",
   "metadata": {},
   "outputs": [
    {
     "data": {
      "text/plain": [
       "'1244'"
      ]
     },
     "execution_count": 40,
     "metadata": {},
     "output_type": "execute_result"
    }
   ],
   "source": [
    "\"a\"\n",
    "\"1244\"\n"
   ]
  },
  {
   "cell_type": "code",
   "execution_count": 42,
   "id": "cbcd2b63-e161-4bea-a110-1d0e918c13fe",
   "metadata": {},
   "outputs": [
    {
     "data": {
      "text/plain": [
       "'Hello world'"
      ]
     },
     "execution_count": 42,
     "metadata": {},
     "output_type": "execute_result"
    }
   ],
   "source": [
    "\"Hello world\""
   ]
  },
  {
   "cell_type": "code",
   "execution_count": 44,
   "id": "25d4ccb4-35a9-4611-8bca-c4bbbdd5fa57",
   "metadata": {},
   "outputs": [
    {
     "data": {
      "text/plain": [
       "'python is fun'"
      ]
     },
     "execution_count": 44,
     "metadata": {},
     "output_type": "execute_result"
    }
   ],
   "source": [
    "'python is fun'"
   ]
  },
  {
   "cell_type": "markdown",
   "id": "06645378-611f-4cd9-90fe-902e8db2374f",
   "metadata": {},
   "source": [
    "###1. 문자열에 작은따옴표 포함하기\n",
    "python's favrorit food is perl"
   ]
  },
  {
   "cell_type": "markdown",
   "id": "ff07d696-2146-43d3-a215-5c960e30afa7",
   "metadata": {},
   "source": [
    "3. 역슬래시를 사용해서 작은따옴표와 큰따옴표를 문자열에 포함하기\n",
    " food = 'Python\\'s favorite food is perl'\n",
    " say = \"\\\"Python is very easy.\\\" he says.\""
   ]
  },
  {
   "cell_type": "code",
   "execution_count": 48,
   "id": "86086549-d3fb-4603-a829-0d8fca289ae2",
   "metadata": {},
   "outputs": [
    {
     "ename": "IndentationError",
     "evalue": "unexpected indent (403371530.py, line 3)",
     "output_type": "error",
     "traceback": [
      "\u001b[1;36m  Cell \u001b[1;32mIn[48], line 3\u001b[1;36m\u001b[0m\n\u001b[1;33m    say = \"\\\"Python is very easy.\\\" he says.\"\u001b[0m\n\u001b[1;37m    ^\u001b[0m\n\u001b[1;31mIndentationError\u001b[0m\u001b[1;31m:\u001b[0m unexpected indent\n"
     ]
    }
   ],
   "source": [
    "# 3. 역슬래시를 사용해서 작은따옴표와 큰따옴표를 문자열에 포함하기\n",
    "food = 'Python\\'s favorite food is perl'\n",
    " say = \"\\\"Python is very easy.\\\" he says.\""
   ]
  },
  {
   "cell_type": "markdown",
   "id": "1c294e8e-b3fd-4f77-ac28-7155c37cf098",
   "metadata": {},
   "source": [
    "# 3. 역슬래시를 사용해서 작은따옴표와 큰따옴표를 문자열에 포함하기\n",
    "food = 'Python\\'s favorite food is perl'\n",
    " say = \"\\\"Python is very easy.\\\" he says.\""
   ]
  },
  {
   "cell_type": "code",
   "execution_count": 51,
   "id": "e3ec2d6b-9596-4385-84ba-a942e3709ce8",
   "metadata": {},
   "outputs": [
    {
     "data": {
      "text/plain": [
       "\"Python's favorite food is perl\""
      ]
     },
     "execution_count": 51,
     "metadata": {},
     "output_type": "execute_result"
    }
   ],
   "source": [
    "food = 'Python\\'s favorite food is perl'\n",
    "food"
   ]
  },
  {
   "cell_type": "code",
   "execution_count": 53,
   "id": "a6fbfb90-53e7-4620-9906-c8293dbfb289",
   "metadata": {},
   "outputs": [
    {
     "data": {
      "text/plain": [
       "'\"Python is very easy.\" he says.'"
      ]
     },
     "execution_count": 53,
     "metadata": {},
     "output_type": "execute_result"
    }
   ],
   "source": [
    " say = \"\\\"Python is very easy.\\\" he says.\"\n",
    "say"
   ]
  },
  {
   "cell_type": "markdown",
   "id": "90b0c925-76e6-4fdf-8eae-51d2503f8cc6",
   "metadata": {},
   "source": [
    "#여러 줄인 문자열을 변수에 대입하고 싶을 때\n",
    "Life is too short\r\n",
    "You need pytho\r\n"
   ]
  },
  {
   "cell_type": "code",
   "execution_count": 57,
   "id": "71ea1ab5-91bc-457c-921b-24c0a22196b2",
   "metadata": {},
   "outputs": [
    {
     "name": "stdout",
     "output_type": "stream",
     "text": [
      "Life is too short \n",
      "You need python \n"
     ]
    }
   ],
   "source": [
    "multiline = \"Life is too short \\nYou need python \"\n",
    "print(multiline)"
   ]
  },
  {
   "cell_type": "code",
   "execution_count": 63,
   "id": "86a79966-47ae-44a7-a499-faa7a4886a96",
   "metadata": {},
   "outputs": [
    {
     "data": {
      "text/plain": [
       "'\\nLife is too short\\nYou need python\\n'"
      ]
     },
     "execution_count": 63,
     "metadata": {},
     "output_type": "execute_result"
    }
   ],
   "source": [
    "#2. 연속된 작은따옴표 3개 또는 큰따옴표 3개 사용하기\n",
    "'''\n",
    "Life is too short\n",
    "You need python\n",
    "'''"
   ]
  },
  {
   "cell_type": "code",
   "execution_count": 65,
   "id": "1a6af9b2-e925-4514-8207-bfc2904816ec",
   "metadata": {},
   "outputs": [
    {
     "data": {
      "text/plain": [
       "'\\nLife is too short\\nYou need python\\n'"
      ]
     },
     "execution_count": 65,
     "metadata": {},
     "output_type": "execute_result"
    }
   ],
   "source": [
    "\"\"\"\n",
    "Life is too short\n",
    "You need python\n",
    "\"\"\""
   ]
  },
  {
   "cell_type": "markdown",
   "id": "c75e650d-ddd6-46bf-b6a8-cc20b8ebcf84",
   "metadata": {},
   "source": [
    "# 문자열 연산하기"
   ]
  },
  {
   "cell_type": "code",
   "execution_count": 68,
   "id": "e1f2b2e1-347c-48a4-9ddb-88e4959c82bd",
   "metadata": {},
   "outputs": [
    {
     "data": {
      "text/plain": [
       "'Python is fun!'"
      ]
     },
     "execution_count": 68,
     "metadata": {},
     "output_type": "execute_result"
    }
   ],
   "source": [
    "head = \"Python\"\n",
    "tail = \" is fun!\"\n",
    "head + tail"
   ]
  },
  {
   "cell_type": "code",
   "execution_count": 72,
   "id": "2f81a4ca-a3a6-4b78-a237-a884c87e5b1f",
   "metadata": {},
   "outputs": [
    {
     "data": {
      "text/plain": [
       "'PythonPython'"
      ]
     },
     "execution_count": 72,
     "metadata": {},
     "output_type": "execute_result"
    }
   ],
   "source": [
    "head* 2"
   ]
  },
  {
   "cell_type": "code",
   "execution_count": 74,
   "id": "2be7fc6a-f961-47b6-aca8-17894a1eecfa",
   "metadata": {},
   "outputs": [
    {
     "name": "stdout",
     "output_type": "stream",
     "text": [
      "==================================================\n",
      "My Program\n",
      "==================================================\n"
     ]
    }
   ],
   "source": [
    "print(\"=\" * 50)\n",
    "print(\"My Program\")\n",
    "print(\"=\" * 50)"
   ]
  },
  {
   "cell_type": "code",
   "execution_count": 76,
   "id": "c2c95c48-d95a-4431-8770-bb4d5acb0d37",
   "metadata": {},
   "outputs": [
    {
     "data": {
      "text/plain": [
       "17"
      ]
     },
     "execution_count": 76,
     "metadata": {},
     "output_type": "execute_result"
    }
   ],
   "source": [
    "a = \"Life is too short\"\n",
    "len(a)"
   ]
  },
  {
   "cell_type": "markdown",
   "id": "84fc0749-86b6-46cf-a733-0ab82cc86729",
   "metadata": {},
   "source": [
    "# 문자열 인덱싱과 슬라이싱\n",
    "a = \"Life is too short, You need Python\""
   ]
  },
  {
   "cell_type": "code",
   "execution_count": 81,
   "id": "f1d93baf-9412-46e2-99c4-82f94b9bd663",
   "metadata": {},
   "outputs": [
    {
     "data": {
      "text/plain": [
       "'Life is too short, You need Python'"
      ]
     },
     "execution_count": 81,
     "metadata": {},
     "output_type": "execute_result"
    }
   ],
   "source": [
    "a = \"Life is too short, You need Python\"\n",
    "a"
   ]
  },
  {
   "cell_type": "code",
   "execution_count": 83,
   "id": "1d0ae4a1-715f-4daa-8218-dcfb507eacd9",
   "metadata": {},
   "outputs": [
    {
     "data": {
      "text/plain": [
       "'Life'"
      ]
     },
     "execution_count": 83,
     "metadata": {},
     "output_type": "execute_result"
    }
   ],
   "source": [
    "b = a[0] + a[1] + a[2] + a[3]\n",
    "b"
   ]
  },
  {
   "cell_type": "code",
   "execution_count": 85,
   "id": "b28884e2-d66d-4997-952c-6cad317e94df",
   "metadata": {},
   "outputs": [
    {
     "data": {
      "text/plain": [
       "'Life'"
      ]
     },
     "execution_count": 85,
     "metadata": {},
     "output_type": "execute_result"
    }
   ],
   "source": [
    "\"Life is too short, You need Python\"\n",
    "a[0:4]\n",
    "'Life'"
   ]
  },
  {
   "cell_type": "code",
   "execution_count": 87,
   "id": "af1c13b8-177a-451f-91c5-b177a24753cb",
   "metadata": {},
   "outputs": [
    {
     "data": {
      "text/plain": [
       "'Lif'"
      ]
     },
     "execution_count": 87,
     "metadata": {},
     "output_type": "execute_result"
    }
   ],
   "source": [
    "a[0:3]\n",
    "'Lif'"
   ]
  },
  {
   "cell_type": "code",
   "execution_count": 91,
   "id": "bda21fe3-2823-4253-ae83-5dcdd1131b3d",
   "metadata": {},
   "outputs": [
    {
     "data": {
      "text/plain": [
       "'Life is too short'"
      ]
     },
     "execution_count": 91,
     "metadata": {},
     "output_type": "execute_result"
    }
   ],
   "source": [
    "a[:17]"
   ]
  },
  {
   "cell_type": "code",
   "execution_count": 93,
   "id": "ba9b476a-f192-456c-88aa-f15987f99dd6",
   "metadata": {},
   "outputs": [
    {
     "data": {
      "text/plain": [
       "'Life is too short, You need Python'"
      ]
     },
     "execution_count": 93,
     "metadata": {},
     "output_type": "execute_result"
    }
   ],
   "source": [
    "a[:]\n",
    "'Life is too short, You need Python'"
   ]
  },
  {
   "cell_type": "code",
   "execution_count": 95,
   "id": "60915c0a-f642-4f98-b7e6-bf81242ffc5a",
   "metadata": {},
   "outputs": [
    {
     "data": {
      "text/plain": [
       "'You need'"
      ]
     },
     "execution_count": 95,
     "metadata": {},
     "output_type": "execute_result"
    }
   ],
   "source": [
    "a[19:-7]\n",
    "'You need'"
   ]
  },
  {
   "cell_type": "code",
   "execution_count": null,
   "id": "28974de2-287e-47c3-821c-c7052df8fb3c",
   "metadata": {},
   "outputs": [],
   "source": []
  },
  {
   "cell_type": "code",
   "execution_count": null,
   "id": "e33a3ee4-c4f8-4e18-9107-fa6e69d43d7b",
   "metadata": {},
   "outputs": [],
   "source": []
  }
 ],
 "metadata": {
  "kernelspec": {
   "display_name": "Python 3 (ipykernel)",
   "language": "python",
   "name": "python3"
  },
  "language_info": {
   "codemirror_mode": {
    "name": "ipython",
    "version": 3
   },
   "file_extension": ".py",
   "mimetype": "text/x-python",
   "name": "python",
   "nbconvert_exporter": "python",
   "pygments_lexer": "ipython3",
   "version": "3.12.4"
  }
 },
 "nbformat": 4,
 "nbformat_minor": 5
}
