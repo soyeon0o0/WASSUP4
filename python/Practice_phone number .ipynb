{
 "cells": [
  {
   "cell_type": "markdown",
   "id": "bfd862ef-adc4-47a6-9516-59b1cb04833a",
   "metadata": {},
   "source": [
    "# 전화번호 프로그램 만들기\r\n",
    "\r\n",
    "* 사용자 입력 : 홍길동 010-123-4567\r\n",
    "* 기능1 : 연락처 추가\r\n",
    "* 기능2 : 연락처 전체 보기\r\n",
    "* 기능3 : 검색, 이름을 입력받아서 전화번호 조회\r\n",
    "* 기능4 : 수정, 이름을 입력받아서 전화번호 입력수정\r\n",
    "* 기능5 : 삭제, 이름 입력받아서 삭제\r\n",
    "* 기능6 : 프로그램 종료"
   ]
  },
  {
   "cell_type": "markdown",
   "id": "3036237d-357b-4a81-9fb3-3558384fa790",
   "metadata": {},
   "source": [
    "## 설계\n",
    "1. 입출력 정의 : 문자열, 딕셔너리 K:V\n",
    "2. 인터페이스 : input(, 프롬프트)\n",
    "3. 구조 : while 반복문, 6개 기능을 구현 -> if분기문\n",
    "4. 기능 구현 + 인터페이스\n",
    "- 1번 연락처 추가 : dict[key] = value\n",
    "- 2번 연락처 전체 보기 : print(dict)\n",
    "- 3번 연락처 검색 : dict[key]\n",
    "- 4번 연락처 수정 : dict[key] = value\n",
    "- 5번 연락처 삭제 : del\n",
    "- 6번 종료 : break  정책"
   ]
  },
  {
   "cell_type": "code",
   "execution_count": null,
   "id": "0a73f838-54a4-44b5-a7f5-aec9836083e0",
   "metadata": {},
   "outputs": [
    {
     "name": "stdout",
     "output_type": "stream",
     "text": [
      "---------전화번호부 프로그램---------\n",
      "1.추가   2.조회   3.검색   4.수정   5.삭제   9.종료\n"
     ]
    }
   ],
   "source": [
    "contact = {}\n",
    "\n",
    "while True:\n",
    "    print('---------전화번호부 프로그램---------')\n",
    "    print('1.추가   2.조회   3.검색   4.수정   5.삭제   9.종료')\n",
    "    menu = int(input('메뉴를 선택해주세요.(숫자 only) : '))\n",
    "    \n",
    "    if menu == 1: # 연락처 추가\n",
    "        print('연락처를 추가합니다.')\n",
    "        new_name = input('이름: ')\n",
    "        new_tel = input('전화번호: ')\n",
    "        print(new_name, new_tel)\n",
    "        # contact[new_name] = new_tel\n",
    "        contact.setdefault(new_name, new_tel)\n",
    "        \n",
    "    elif menu == 2: # 연락처 조회\n",
    "        print('연락처를 조회합니다.')\n",
    "        # print(contact)\n",
    "        for name, tel in contact.items():\n",
    "            print(name, ':', tel)\n",
    "        \n",
    "    elif menu == 3: # 연락처 검색\n",
    "        print('연락처를 검색합니다.')\n",
    "        search_name = input('검색 이름: ')\n",
    "        # print(contact[search_name])\n",
    "        print(contact.get(search_name, '없는 이름입니다.'))\n",
    "        \n",
    "    elif menu == 4: # 연락처 수정\n",
    "        print('연락처를 수정합니다.')\n",
    "        mod_name = input('수정 이름 : ')\n",
    "\n",
    "        if mod_name in contact:\n",
    "            mod_tel = input('새 전화번호: ')\n",
    "            contact[mod_name] = mod_tel\n",
    "        else:\n",
    "            print('등록되지 않은 이름입니다.')       \n",
    "\n",
    "    elif menu == 5: # 연락처 삭제\n",
    "        print('연락처를 삭제합니다.')\n",
    "        del_name = input('삭제 이름 : ')\n",
    "\n",
    "        if del_name in contact:\n",
    "            del contact[del_name]\n",
    "        else:\n",
    "            print('등록되지 않은 이름입니다.')     \n",
    "        \n",
    "    elif menu == 9: # 프로그램 종료\n",
    "        print('프로그램을 종료합니다.')\n",
    "        break\n",
    "\n",
    "    else :\n",
    "        print('잘못된 입력입니다.')"
   ]
  },
  {
   "cell_type": "code",
   "execution_count": null,
   "id": "d2148085-65de-45f1-badd-9f1cd45aa11e",
   "metadata": {},
   "outputs": [],
   "source": []
  }
 ],
 "metadata": {
  "kernelspec": {
   "display_name": "Python 3 (ipykernel)",
   "language": "python",
   "name": "python3"
  },
  "language_info": {
   "codemirror_mode": {
    "name": "ipython",
    "version": 3
   },
   "file_extension": ".py",
   "mimetype": "text/x-python",
   "name": "python",
   "nbconvert_exporter": "python",
   "pygments_lexer": "ipython3",
   "version": "3.12.4"
  }
 },
 "nbformat": 4,
 "nbformat_minor": 5
}
