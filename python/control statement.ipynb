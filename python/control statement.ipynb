{
 "cells": [
  {
   "cell_type": "markdown",
   "id": "80282a8a-cfd0-435e-8b19-d040bddd4ce2",
   "metadata": {},
   "source": [
    "# if문"
   ]
  },
  {
   "cell_type": "markdown",
   "id": "2be5c899-4634-48a4-8b5f-b359358d467d",
   "metadata": {},
   "source": [
    "‘돈이 있으면 택시를 타고 가고, 돈이 없으면 걸어간다.’"
   ]
  },
  {
   "cell_type": "code",
   "execution_count": 15,
   "id": "0bfd20d4-a313-4400-a684-0baafec90f7b",
   "metadata": {},
   "outputs": [
    {
     "name": "stdout",
     "output_type": "stream",
     "text": [
      "택시를 타고 가라\n"
     ]
    }
   ],
   "source": [
    "money = True\n",
    "if money:\n",
    "    print(\"택시를 타고 가라\")\n",
    "else:\n",
    "    print(\"걸어 가라\")"
   ]
  },
  {
   "cell_type": "code",
   "execution_count": 17,
   "id": "f04503db-45da-4174-910f-801a7a7ab96e",
   "metadata": {},
   "outputs": [
    {
     "ename": "IndentationError",
     "evalue": "unexpected indent (1841204671.py, line 5)",
     "output_type": "error",
     "traceback": [
      "\u001b[1;36m  Cell \u001b[1;32mIn[17], line 5\u001b[1;36m\u001b[0m\n\u001b[1;33m    print(\"가라\")\u001b[0m\n\u001b[1;37m    ^\u001b[0m\n\u001b[1;31mIndentationError\u001b[0m\u001b[1;31m:\u001b[0m unexpected indent\n"
     ]
    }
   ],
   "source": [
    "money = True\n",
    "if money:\n",
    "    print(\"택시를\")\n",
    "print(\"타고\")\n",
    "    print(\"가라\")"
   ]
  },
  {
   "cell_type": "markdown",
   "id": "c0cdaa47-a9a2-4738-8ed8-993c778ceb50",
   "metadata": {},
   "source": [
    "## 비교연산자"
   ]
  },
  {
   "cell_type": "code",
   "execution_count": 20,
   "id": "08bc7890-f25f-4939-964b-548163194087",
   "metadata": {},
   "outputs": [
    {
     "data": {
      "text/plain": [
       "True"
      ]
     },
     "execution_count": 20,
     "metadata": {},
     "output_type": "execute_result"
    }
   ],
   "source": [
    "x = 3\n",
    "y = 2\n",
    "x > y"
   ]
  },
  {
   "cell_type": "code",
   "execution_count": 22,
   "id": "d8eadefa-5835-4084-b4aa-ca71f1d46bc2",
   "metadata": {},
   "outputs": [
    {
     "data": {
      "text/plain": [
       "False"
      ]
     },
     "execution_count": 22,
     "metadata": {},
     "output_type": "execute_result"
    }
   ],
   "source": [
    "x < y"
   ]
  },
  {
   "cell_type": "code",
   "execution_count": 24,
   "id": "bb500fe9-35ea-4402-801c-e5f3181960fa",
   "metadata": {},
   "outputs": [
    {
     "data": {
      "text/plain": [
       "False"
      ]
     },
     "execution_count": 24,
     "metadata": {},
     "output_type": "execute_result"
    }
   ],
   "source": [
    "x == y"
   ]
  },
  {
   "cell_type": "markdown",
   "id": "ed33a872-738e-4324-a78d-460fa0893ecb",
   "metadata": {},
   "source": [
    "# quiz"
   ]
  },
  {
   "cell_type": "code",
   "execution_count": 27,
   "id": "6a645afc-7bf2-497b-a43f-c41bb9dc2641",
   "metadata": {},
   "outputs": [
    {
     "name": "stdout",
     "output_type": "stream",
     "text": [
      "걸어가라\n"
     ]
    }
   ],
   "source": [
    "money = 0\n",
    "if money >= 3000:\n",
    "    print(\"택시를 타라\")\n",
    "else:\n",
    "    print(\"걸어가라\")"
   ]
  },
  {
   "cell_type": "code",
   "execution_count": 39,
   "id": "93c4cafb-7989-473b-8dbd-9181f1a608f7",
   "metadata": {},
   "outputs": [
    {
     "name": "stdout",
     "output_type": "stream",
     "text": [
      "택시를 타라\n"
     ]
    }
   ],
   "source": [
    "money = 2000\n",
    "card = True\n",
    "\n",
    "if money >= 3000 or card :\n",
    "    print(\"택시를 타라\")\n",
    "else:\n",
    "    print(\"걸어가라\")"
   ]
  },
  {
   "cell_type": "code",
   "execution_count": 41,
   "id": "abf2d2e5-1b70-4017-8080-21c69f4a0e5c",
   "metadata": {},
   "outputs": [
    {
     "data": {
      "text/plain": [
       "True"
      ]
     },
     "execution_count": 41,
     "metadata": {},
     "output_type": "execute_result"
    }
   ],
   "source": [
    "1 in [1, 2, 3]"
   ]
  },
  {
   "cell_type": "code",
   "execution_count": 43,
   "id": "9d892c03-3e4b-41b7-abe8-2cece86929fa",
   "metadata": {},
   "outputs": [
    {
     "data": {
      "text/plain": [
       "False"
      ]
     },
     "execution_count": 43,
     "metadata": {},
     "output_type": "execute_result"
    }
   ],
   "source": [
    "1 not in [1, 2, 3]"
   ]
  },
  {
   "cell_type": "code",
   "execution_count": 45,
   "id": "59a445ab-8d9d-4eb9-85ab-2ff759fe0209",
   "metadata": {},
   "outputs": [
    {
     "data": {
      "text/plain": [
       "True"
      ]
     },
     "execution_count": 45,
     "metadata": {},
     "output_type": "execute_result"
    }
   ],
   "source": [
    "'a' in ('a', 'b', 'c')"
   ]
  },
  {
   "cell_type": "code",
   "execution_count": 47,
   "id": "e372778a-a80c-421c-831e-aa0884991b8b",
   "metadata": {},
   "outputs": [
    {
     "data": {
      "text/plain": [
       "True"
      ]
     },
     "execution_count": 47,
     "metadata": {},
     "output_type": "execute_result"
    }
   ],
   "source": [
    "'j' not in 'python'"
   ]
  },
  {
   "cell_type": "markdown",
   "id": "6f5ad975-dbc0-4722-b0c6-ce9b36ee0714",
   "metadata": {},
   "source": [
    "# Quiz\n",
    "주머니에 돈이 있으면 택시를 타고 가고,없으면 걸어가라.\n"
   ]
  },
  {
   "cell_type": "code",
   "execution_count": 51,
   "id": "6afb2f85-f84b-436a-806b-ced094511e4c",
   "metadata": {},
   "outputs": [
    {
     "name": "stdout",
     "output_type": "stream",
     "text": [
      "택시를 타라\n"
     ]
    }
   ],
   "source": [
    " pocket = ['money','card', 'cellphone']\n",
    "\n",
    "if 'money' in pocket:\n",
    "     print(\"택시를 타라\")\n",
    "else:\n",
    "    print(\"걸어가라\")"
   ]
  },
  {
   "cell_type": "markdown",
   "id": "e4b585d7-21bb-4e23-b8a3-5f81610b5d39",
   "metadata": {},
   "source": [
    "## pass\n",
    "주머니에 돈이 있으면 가만히 있고, 주머니에 돈이 없으면 카드를 꺼내라."
   ]
  },
  {
   "cell_type": "code",
   "execution_count": 59,
   "id": "8c7727f5-c24a-4ffa-b603-391ade1243a5",
   "metadata": {},
   "outputs": [],
   "source": [
    "pocket = ['paper', 'money', 'cellphone']\n",
    "if 'money' in pocket:\n",
    "    pass \n",
    "else:\n",
    "    print(\"카드를 꺼내라\")"
   ]
  },
  {
   "cell_type": "markdown",
   "id": "0b380bdd-2499-4bd8-85c3-36c6924f5190",
   "metadata": {},
   "source": [
    "# elif\n",
    "주머니에 돈이 있으면 택시를 타고 가고, 주머니에 돈은 없지만 카드가 있으면 택시를 타고 가고, 돈도 없고 카드도 없으면 걸어가라."
   ]
  },
  {
   "cell_type": "code",
   "execution_count": null,
   "id": "c72584d2-8dbd-44e3-ac1c-9267c4fcde85",
   "metadata": {},
   "outputs": [],
   "source": []
  }
 ],
 "metadata": {
  "kernelspec": {
   "display_name": "Python 3 (ipykernel)",
   "language": "python",
   "name": "python3"
  },
  "language_info": {
   "codemirror_mode": {
    "name": "ipython",
    "version": 3
   },
   "file_extension": ".py",
   "mimetype": "text/x-python",
   "name": "python",
   "nbconvert_exporter": "python",
   "pygments_lexer": "ipython3",
   "version": "3.12.4"
  }
 },
 "nbformat": 4,
 "nbformat_minor": 5
}
