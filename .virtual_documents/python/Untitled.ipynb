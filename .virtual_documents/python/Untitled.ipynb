





money = True
if money:
    print("택시를 타고 가라")
else:
    print("걸어 가라")


money = True
if money:
    print("택시를")
print("타고")
    print("가라")





x = 3
y = 2
x > y


x < y


x == y





money = 0
if money >= 3000:
    print("택시를 타라")
else:
    print("걸어가라")



