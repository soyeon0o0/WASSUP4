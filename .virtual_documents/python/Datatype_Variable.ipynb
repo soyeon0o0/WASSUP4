a=1
print(a) 


a=0
a


# 실수형
a=1.2
b=-3.45
a,b


a = 4.25E10
a


a = 4.25e-10
a





a = 0x177
print(a)





# 사칙연산
a =3
b=4
a+b


a-b, a*b, a/b


# x의 y제곱을 나타내는 ** 연산자
a**b


#나눗셈 후 나머지를 리턴
7 % 3 , 3 % 7


#나눗셈 후 몫을 리턴
7//4


# 복합 연산자
a= a +1
a


a += 1
a


a -=1
a





"lifr is too short, you need python"


"a"
"1244"



"Hello world"


'python is fun'








# 3. 역슬래시를 사용해서 작은따옴표와 큰따옴표를 문자열에 포함하기
food = 'Python\'s favorite food is perl'
 say = "\"Python is very easy.\" he says."





food = 'Python\'s favorite food is perl'
food


 say = "\"Python is very easy.\" he says."
say





multiline = "Life is too short \nYou need python "
print(multiline)


#2. 연속된 작은따옴표 3개 또는 큰따옴표 3개 사용하기
'''
Life is too short
You need python
'''


"""
Life is too short
You need python
"""





head = "Python"
tail = " is fun!"
head + tail


head* 2


print("=" * 50)
print("My Program")
print("=" * 50)


a = "Life is too short"
len(a)





a = "Life is too short, You need Python"
a


b = a[0] + a[1] + a[2] + a[3]
b


"Life is too short, You need Python"
a[0:4]
'Life'


a[0:3]
'Lif'


a[:17]


a[:]
'Life is too short, You need Python'


a[19:-7]
'You need'





odd = [1, 3, 5, 7, 9]
odd


a = []
b = [1, 2, 3]
c = ['Life', 'is', 'too', 'short']
d = [1, 2, 'Life', 'is']
e = [1, 2, ['Life', 'is']]
f = list()
a,b,c,d,e,f


a = [1,2,['a','b',['Life','is']]]
a


a[-1][1]





a = [1,2,3,4,5]


a[0:2]


a = [1,2,3,['a','b','c'],4,5]


a[2:5]


a[3][0:2]





a = [1, 2, 3]
b = [4, 5, 6]
a + b


a *3


str(a[2]) + "hi"





a = [1, 2, 3]
a[2] = 4
a


del a[1]
a


a = [1, 2, 3, 4, 5]
del a[2:]
a





# 리스트에 요소 추가하기 append
a = [1,2,3]
a.append(4)
a


# 리스트정렬
a = [1,4,3,2]
a.sort()
a



